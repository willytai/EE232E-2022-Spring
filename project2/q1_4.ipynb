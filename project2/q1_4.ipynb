{
 "cells": [
  {
   "cell_type": "code",
   "execution_count": 124,
   "id": "8416cc16",
   "metadata": {},
   "outputs": [],
   "source": [
    "library(igraph)\n",
    "library(ggplot2)"
   ]
  },
  {
   "cell_type": "code",
   "execution_count": 125,
   "id": "a3f5be9c",
   "metadata": {},
   "outputs": [],
   "source": [
    "# costruct network from data\n",
    "graphWithLabel = read_graph(\"./facebook_combined.txt\", format=\"edgelist\", directed=FALSE)\n",
    "graphWithLabel = set_vertex_attr(graphWithLabel, name = \"label\", index = seq(1, length(V(graphWithLabel))), value = seq(1, length(V(graphWithLabel))))"
   ]
  },
  {
   "cell_type": "markdown",
   "id": "6965d7de",
   "metadata": {},
   "source": [
    "### Q16"
   ]
  },
  {
   "cell_type": "code",
   "execution_count": 126,
   "id": "b2a5e660",
   "metadata": {},
   "outputs": [
    {
     "name": "stdout",
     "output_type": "stream",
     "text": [
      "[1] \"Length of Nr = 11\"\n"
     ]
    }
   ],
   "source": [
    "# personalized network for node 415\n",
    "eg = make_ego_graph(graph = graphWithLabel, order = 1, nodes = V(graphWithLabel)[415])[[1]]\n",
    "Nr = which(degree(eg)==24)\n",
    "print(sprintf(\"Length of Nr = %d\", length(Nr)))"
   ]
  },
  {
   "cell_type": "markdown",
   "id": "deb8cebf",
   "metadata": {},
   "source": [
    "### Q17"
   ]
  },
  {
   "cell_type": "code",
   "execution_count": 127,
   "id": "ef5db23b",
   "metadata": {},
   "outputs": [],
   "source": [
    "commonNeighbor = function(graph, ni, nj) {\n",
    "    return(length(intersect(neighbors(graph = graph, v = ni), neighbors(graph = graph, v = nj))))\n",
    "}"
   ]
  },
  {
   "cell_type": "code",
   "execution_count": 128,
   "id": "8de948ee",
   "metadata": {},
   "outputs": [],
   "source": [
    "jaccard = function(graph, ni, nj) {\n",
    "    return(commonNeighbor(graph, ni, nj)/length(union(neighbors(graph = graph, v = ni), neighbors(graph = graph, v = nj))))\n",
    "}"
   ]
  },
  {
   "cell_type": "code",
   "execution_count": 129,
   "id": "23ed40f9",
   "metadata": {},
   "outputs": [],
   "source": [
    "adamic = function(graph, ni, nj) {\n",
    "    ret = 0\n",
    "    for (node in intersect(neighbors(graph = graph, v = ni), neighbors(graph = graph, v = nj))) {\n",
    "        ret = ret + 1/log10(length(neighbors(graph = graph, v = node)))\n",
    "    }\n",
    "    return(ret)\n",
    "}"
   ]
  },
  {
   "cell_type": "code",
   "execution_count": 159,
   "id": "b31482b3",
   "metadata": {},
   "outputs": [],
   "source": [
    "recommend = function(graph, ni, alg) {\n",
    "    dice = c(TRUE, FALSE, FALSE, FALSE)\n",
    "    \n",
    "    # unfriend\n",
    "    removeEdges = c()\n",
    "    removedFriends = c()\n",
    "    for (edge in incident(graph, ni)) {\n",
    "        if (sample(dice, 1)) {\n",
    "            removeEdges = c(removeEdges, edge)\n",
    "            if (ni == tail_of(graph, edge)) {\n",
    "                removedFriends = c(removedFriends, head_of(graph, edge))\n",
    "            }\n",
    "            else {\n",
    "                removedFriends = c(removedFriends, tail_of(graph, edge))\n",
    "            }\n",
    "        }\n",
    "    }\n",
    "    graph = delete_edges(graph, removeEdges)\n",
    "    \n",
    "    # friend\n",
    "    notFriends = c()\n",
    "    friends = neighbors(graph, ni)\n",
    "    for (v in V(graph)) {\n",
    "        if (!(v %in% friends)) {\n",
    "            notFriends = c(notFriends, v)\n",
    "        }\n",
    "    }\n",
    "    score = c()\n",
    "    for (nj in notFriends) {\n",
    "        score = c(score, alg(graph, ni, nj))\n",
    "    }\n",
    "    score = sort(score, decreasing = TRUE, index.return = TRUE)\n",
    "    \n",
    "    candidates = notFriends[score$ix]\n",
    "    recommendation = candidates[1:length(removedFriends)]\n",
    "    \n",
    "    # calculate average\n",
    "    acc = length(intersect(removedFriends, recommendation))/length(removedFriends)\n",
    "    return(acc)\n",
    "}"
   ]
  },
  {
   "cell_type": "code",
   "execution_count": 160,
   "id": "375104ea",
   "metadata": {},
   "outputs": [
    {
     "name": "stdout",
     "output_type": "stream",
     "text": [
      "[1] \"Accuracy for Common Neighbor: 0.72\"\n",
      "[1] \"Accuracy for Jaccard: 0.68\"\n",
      "[1] \"Accuracy for Adamic Adar: 0.70\"\n"
     ]
    }
   ],
   "source": [
    "runExp = function(alg) {\n",
    "    aveGlobal = 0\n",
    "    for (node in Nr) {\n",
    "        aveLocal = 0\n",
    "        for (i in 1:10) {\n",
    "            aveLocal = aveLocal + recommend(eg, node, alg)\n",
    "        }\n",
    "        aveLocal = aveLocal / 10\n",
    "        aveGlobal = aveGlobal + aveLocal\n",
    "    }\n",
    "    aveGlobal = aveGlobal / length(Nr)\n",
    "    return(aveGlobal)\n",
    "}\n",
    "print(sprintf(\"Accuracy for Common Neighbor: %.2f\", runExp(commonNeighbor)))\n",
    "print(sprintf(\"Accuracy for Jaccard: %.2f\", runExp(jaccard)))\n",
    "print(sprintf(\"Accuracy for Adamic Adar: %.2f\", runExp(adamic)))"
   ]
  }
 ],
 "metadata": {
  "kernelspec": {
   "display_name": "R",
   "language": "R",
   "name": "ir"
  },
  "language_info": {
   "codemirror_mode": "r",
   "file_extension": ".r",
   "mimetype": "text/x-r-source",
   "name": "R",
   "pygments_lexer": "r",
   "version": "4.1.3"
  }
 },
 "nbformat": 4,
 "nbformat_minor": 5
}
